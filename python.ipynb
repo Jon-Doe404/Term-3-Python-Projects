{
 "cells": [
  {
   "cell_type": "code",
   "execution_count": 47,
   "id": "0d654567",
   "metadata": {},
   "outputs": [],
   "source": [
    "def bubble_sort(arr):\n",
    "    nItem = len(arr)\n",
    "    for last in range(nItem - 1, 0, -1):\n",
    "        for inner in range(last):\n",
    "            if arr[inner] > arr[inner + 1]:\n",
    "                arr[inner], arr[inner + 1] = arr[inner + 1], arr[inner]\n",
    "    return arr\n"
   ]
  },
  {
   "cell_type": "code",
   "execution_count": 48,
   "id": "80eb34fe",
   "metadata": {},
   "outputs": [
    {
     "name": "stdout",
     "output_type": "stream",
     "text": [
      "Unsorted array: (65, 35, 25, 15, 5, 10, 20, 30, 40, 50, 55, 60)\n",
      "Sorted array: [5, 10, 15, 20, 25, 30, 35, 40, 50, 55, 60, 65]\n"
     ]
    }
   ],
   "source": [
    "sample_array = (65, 35, 25, 15, 5, 10, 20, 30, 40, 50, 55, 60)\n",
    "print(f\"Unsorted array: {sample_array}\")\n",
    "sorted_array_bubble = bubble_sort(list(sample_array))\n",
    "print(f\"Sorted array: {sorted_array_bubble}\")"
   ]
  }
 ],
 "metadata": {
  "kernelspec": {
   "display_name": "Python 3",
   "language": "python",
   "name": "python3"
  },
  "language_info": {
   "codemirror_mode": {
    "name": "ipython",
    "version": 3
   },
   "file_extension": ".py",
   "mimetype": "text/x-python",
   "name": "python",
   "nbconvert_exporter": "python",
   "pygments_lexer": "ipython3",
   "version": "3.13.2"
  }
 },
 "nbformat": 4,
 "nbformat_minor": 5
}
