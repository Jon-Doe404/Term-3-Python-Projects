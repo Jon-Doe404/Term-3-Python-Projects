{
 "cells": [
  {
   "cell_type": "markdown",
   "id": "77e57ef3",
   "metadata": {},
   "source": [
    "# Palindrome Checker Using Stack in Python"
   ]
  },
  {
   "cell_type": "markdown",
   "id": "25067e5e",
   "metadata": {},
   "source": [
    "This notebook demonstrates a Python program that checks whether an input string is a palindrome. \n",
    "\n",
    "It uses a stack inspired by reverseword.py from Listing 4 and 3 to reverse the sequence of letters in the string. \n",
    "The program ignores whitespace, punctuation, digits, and is case insensitive."
   ]
  },
  {
   "cell_type": "code",
   "execution_count": 30,
   "id": "e9ad5aa2",
   "metadata": {},
   "outputs": [
    {
     "name": "stdout",
     "output_type": "stream",
     "text": [
      "Is it a palindrome? True\n"
     ]
    }
   ],
   "source": [
    "class Stack:\n",
    "    def __init__(self):\n",
    "        self.items = []\n",
    "\n",
    "    def is_empty(self):\n",
    "        return self.items == []\n",
    "\n",
    "    def push(self, item):\n",
    "        self.items.append(item)\n",
    "\n",
    "    def pop(self):\n",
    "        if not self.is_empty():\n",
    "            return self.items.pop()\n",
    "\n",
    "    def size(self):\n",
    "        return len(self.items)\n",
    "\n",
    "def clean_string(s):\n",
    "    \n",
    "    return ''.join([char.lower() for char in s if char.isalpha()])\n",
    "\n",
    "def is_palindrome(s):\n",
    "    cleaned = clean_string(s)\n",
    "    stack = Stack()\n",
    "\n",
    "    for char in cleaned:\n",
    "        stack.push(char)\n",
    "\n",
    "    reversed_str = ''.join([stack.pop() for _ in range(stack.size())])\n",
    "\n",
    "    return cleaned == reversed_str\n",
    "\n",
    "test_string = \"A man, a plan, a canal, Panama\"\n",
    "print(f\"Is it a palindrome? {is_palindrome(test_string)}\")\n"
   ]
  },
  {
   "cell_type": "code",
   "execution_count": 31,
   "id": "3df5fbf7",
   "metadata": {},
   "outputs": [
    {
     "name": "stdout",
     "output_type": "stream",
     "text": [
      "Input: A man, a plan, a canal, Panama\n",
      "Is it a palindrome? True\n"
     ]
    }
   ],
   "source": [
    "test_string = \"A man, a plan, a canal, Panama\"\n",
    "result = is_palindrome(test_string)\n",
    "print(f\"Input: {test_string}\")\n",
    "print(f\"Is it a palindrome? {result}\")"
   ]
  },
  {
   "cell_type": "markdown",
   "id": "b92eb7fc",
   "metadata": {},
   "source": [
    "# References\n",
    "\n",
    "Based on the use of stack shown in  reverseword.py , Listing 4 and 3.\n",
    "This exercise demonstrates how stack operations can be applied to real-world problems like palindrome checking.\n"
   ]
  }
 ],
 "metadata": {
  "kernelspec": {
   "display_name": "Python 3",
   "language": "python",
   "name": "python3"
  },
  "language_info": {
   "codemirror_mode": {
    "name": "ipython",
    "version": 3
   },
   "file_extension": ".py",
   "mimetype": "text/x-python",
   "name": "python",
   "nbconvert_exporter": "python",
   "pygments_lexer": "ipython3",
   "version": "3.13.2"
  }
 },
 "nbformat": 4,
 "nbformat_minor": 5
}
